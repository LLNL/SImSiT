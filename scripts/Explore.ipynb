{
 "cells": [
  {
   "cell_type": "code",
   "execution_count": null,
   "id": "64464c40-47f3-453c-a07c-df439beafc2b",
   "metadata": {},
   "outputs": [],
   "source": [
    "import astropy.io.fits as fits\n",
    "import matplotlib.pyplot as plt\n",
    "import numpy as np\n",
    "import ipywidgets\n",
    "%matplotlib widget"
   ]
  },
  {
   "cell_type": "code",
   "execution_count": null,
   "id": "74cda392-3d6b-488a-9520-8d5eb0a7410e",
   "metadata": {},
   "outputs": [],
   "source": [
    "branch = \"sidereal\"\n",
    "# branch = \"target\""
   ]
  },
  {
   "cell_type": "code",
   "execution_count": null,
   "id": "70bb9239-3138-4c72-be0f-b0b89bdf3bab",
   "metadata": {},
   "outputs": [],
   "source": [
    "truth = fits.open(f\"{branch}/private/truth.fits\")"
   ]
  },
  {
   "cell_type": "code",
   "execution_count": null,
   "id": "3e0a5c21-30f9-479b-9744-09cb427a3d00",
   "metadata": {},
   "outputs": [],
   "source": [
    "plt.close(\"all\")"
   ]
  },
  {
   "cell_type": "code",
   "execution_count": null,
   "id": "62a7eec2-22b7-4947-8127-100ba791c5b6",
   "metadata": {},
   "outputs": [],
   "source": [
    "@ipywidgets.interact(\n",
    "    i=ipywidgets.IntSlider(0, min=0, max=19),\n",
    "    n=ipywidgets.IntSlider(10, min=0, max=20)\n",
    ")\n",
    "def f(i, n):\n",
    "    data = fits.getdata(f\"{branch}/public/0{i:02d}.fits\")\n",
    "    stars = truth[f\"STAR_{i:03d}\"].data\n",
    "    ssort = np.argsort(stars['i_mag'])\n",
    "    stars = stars[ssort[:n]]\n",
    "    sats = truth[f\"SAT_{i:03d}\"].data\n",
    "    vmin, vmax = np.quantile(data.ravel(), [0.01, 0.99])\n",
    "    plt.figure()\n",
    "    plt.imshow(data, vmin=vmin, vmax=vmax)\n",
    "    plt.scatter(stars['x_FITS']-1, stars['y_FITS']-1, edgecolor='r', facecolor='None')\n",
    "    plt.scatter(sats['x0_FITS']-1, sats['y0_FITS']-1, edgecolor='y', facecolor='None')\n",
    "    plt.scatter(sats['x1_FITS']-1, sats['y1_FITS']-1, edgecolor='y', facecolor='None')\n",
    "    plt.xlim(0, 1800)\n",
    "    plt.ylim(0, 1536)\n",
    "    plt.show()"
   ]
  },
  {
   "cell_type": "code",
   "execution_count": null,
   "id": "6c574e27-28a5-4e58-8acf-4a2bd3669651",
   "metadata": {},
   "outputs": [],
   "source": []
  }
 ],
 "metadata": {
  "kernelspec": {
   "display_name": "Python 3 (ipykernel)",
   "language": "python",
   "name": "python3"
  },
  "language_info": {
   "codemirror_mode": {
    "name": "ipython",
    "version": 3
   },
   "file_extension": ".py",
   "mimetype": "text/x-python",
   "name": "python",
   "nbconvert_exporter": "python",
   "pygments_lexer": "ipython3",
   "version": "3.8.8"
  }
 },
 "nbformat": 4,
 "nbformat_minor": 5
}
