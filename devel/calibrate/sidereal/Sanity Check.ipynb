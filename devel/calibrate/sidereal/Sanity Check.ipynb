{
 "cells": [
  {
   "cell_type": "code",
   "execution_count": null,
   "metadata": {},
   "outputs": [],
   "source": [
    "import yaml\n",
    "from astropy.io import fits\n",
    "import matplotlib.pyplot as plt\n",
    "import numpy as np\n",
    "from ipywidgets import interact\n",
    "import galsim\n",
    "%matplotlib widget"
   ]
  },
  {
   "cell_type": "code",
   "execution_count": null,
   "metadata": {},
   "outputs": [],
   "source": [
    "def f(i_obs=0, truth=False, wcs='xy'):\n",
    "    hdul = fits.open(f\"public/{i_obs:03d}.fits\")\n",
    "    img = hdul[0].data\n",
    "    hdr = hdul[0].header\n",
    "    \n",
    "    _, ax = plt.subplots(nrows=1, ncols=1, figsize=(6, 4))\n",
    "    im = ax.imshow(img, vmin=0, vmax=100)\n",
    "    ax.set_xlim(0, img.shape[1])\n",
    "    ax.set_ylim(0, img.shape[0])\n",
    "    plt.colorbar(im, ax=ax)\n",
    "\n",
    "    if truth:\n",
    "        stars = fits.open(\"private/truth.fits\")[f'STAR_{i_obs:04d}'].data\n",
    "        sats = fits.open(\"private/truth.fits\")[f'SAT_{i_obs:04d}'].data\n",
    "        if wcs == 'xy':\n",
    "            x0 = sats['x0']\n",
    "            y0 = sats['y0']\n",
    "            x1 = sats['x1']\n",
    "            y1 = sats['y1']\n",
    "            x = stars['x']\n",
    "            y = stars['y']\n",
    "        else:\n",
    "            if wcs == 'approx':\n",
    "                wcs = galsim.GSFitsWCS(header=hdr)\n",
    "            else:\n",
    "                wcs = galsim.GSFitsWCS(f\"private/{i_obs:03d}.wcs.fits\")\n",
    "            x0, y0 = wcs.radecToxy(sats['ra0'], sats['dec0'], units='rad')\n",
    "            x1, y1 = wcs.radecToxy(sats['ra1'], sats['dec1'], units='rad')\n",
    "            x, y = wcs.radecToxy(stars['ra'], stars['dec'], units='rad')\n",
    "    else:    \n",
    "        docs = list(yaml.safe_load_all(open(\"private/sample_submission.yaml\", 'r')))\n",
    "        doc = docs[i_obs]\n",
    "        sat = doc['sats'][0]\n",
    "        if wcs == 'xy':\n",
    "            x0 = sat['x0']\n",
    "            y0 = sat['y0']\n",
    "            x1 = sat['x1']\n",
    "            y1 = sat['y1']\n",
    "            x = []\n",
    "            y = []\n",
    "            for star in doc['stars']:\n",
    "                x.append(star['x'])\n",
    "                y.append(star['y'])  \n",
    "            x = np.array(x)\n",
    "            y = np.array(y)\n",
    "        else:\n",
    "            if wcs == 'approx':\n",
    "                wcs = galsim.GSFitsWCS(header=hdr)\n",
    "            else:\n",
    "                wcs = galsim.GSFitsWCS(f\"private/{i_obs:03d}.wcs.fits\")\n",
    "            x0, y0 = wcs.radecToxy(sat['ra0'], sat['dec0'], units='rad')\n",
    "            x1, y1 = wcs.radecToxy(sat['ra1'], sat['dec1'], units='rad')\n",
    "            ra = []\n",
    "            dec = []\n",
    "            for star in doc['stars']:\n",
    "                ra.append(star['ra'])\n",
    "                dec.append(star['dec'])\n",
    "            x, y = wcs.radecToxy(np.array(ra), np.array(dec), units='rad')\n",
    "    # Note the -1 to account for difference in FITS, matplotlib array indexing conventions.\n",
    "    plt.scatter(x0-1, y0-1, facecolors='none', edgecolors='r', s=100)\n",
    "    plt.scatter(x1-1, y1-1, facecolors='none', edgecolors='r', s=100)\n",
    "    plt.scatter(x-1, y-1, facecolors='none', edgecolors='b', s=100)    \n",
    "    plt.show()"
   ]
  },
  {
   "cell_type": "code",
   "execution_count": null,
   "metadata": {},
   "outputs": [],
   "source": [
    "plt.close('all')\n",
    "interact(f, i_obs=(0, 1), truth=False, wcs=['xy', 'approx', 'truth']);"
   ]
  },
  {
   "cell_type": "code",
   "execution_count": null,
   "metadata": {},
   "outputs": [],
   "source": []
  }
 ],
 "metadata": {
  "kernelspec": {
   "display_name": "Python 3",
   "language": "python",
   "name": "python3"
  },
  "language_info": {
   "codemirror_mode": {
    "name": "ipython",
    "version": 3
   },
   "file_extension": ".py",
   "mimetype": "text/x-python",
   "name": "python",
   "nbconvert_exporter": "python",
   "pygments_lexer": "ipython3",
   "version": "3.7.8"
  }
 },
 "nbformat": 4,
 "nbformat_minor": 4
}
